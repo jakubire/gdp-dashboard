{
  "nbformat": 4,
  "nbformat_minor": 0,
  "metadata": {
    "colab": {
      "provenance": [],
      "authorship_tag": "ABX9TyPIjaCwCjN8RK1Crnk+wXTA",
      "include_colab_link": true
    },
    "kernelspec": {
      "name": "python3",
      "display_name": "Python 3"
    },
    "language_info": {
      "name": "python"
    }
  },
  "cells": [
    {
      "cell_type": "markdown",
      "metadata": {
        "id": "view-in-github",
        "colab_type": "text"
      },
      "source": [
        "<a href=\"https://colab.research.google.com/github/jakubire/gdp-dashboard/blob/main/Weekly_covid19_prediction_tool.ipynb\" target=\"_parent\"><img src=\"https://colab.research.google.com/assets/colab-badge.svg\" alt=\"Open In Colab\"/></a>"
      ]
    },
    {
      "cell_type": "code",
      "source": [
        "import streamlit as st\n",
        "import numpy as np\n",
        "import tensorflow as tf\n",
        "from keras.models import Sequential\n",
        "from keras.layers import LSTM, Dense, Bidirectional\n",
        "\n",
        "# Load the saved model\n",
        "model = tf.keras.models.load_model('/content/my_usa_cv19_model.keras')\n",
        "\n",
        "# Set the background color of the app to dark\n",
        "st.markdown(\n",
        "    \"\"\"\n",
        "    <style>\n",
        "    .main {\n",
        "        background-color: #1E1E1E;\n",
        "        color: #FFFFFF;\n",
        "    }\n",
        "    </style>\n",
        "    \"\"\",\n",
        "    unsafe_allow_html=True\n",
        ")\n",
        "\n",
        "# Function to split the sequence\n",
        "def split_sequence(sequence, n_steps):\n",
        "    X, y = list(), list()\n",
        "    for i in range(len(sequence)):\n",
        "        end_ix = i + n_steps\n",
        "        if end_ix > len(sequence) - 1:\n",
        "            break\n",
        "        seq_x, seq_y = sequence[i:end_ix, :], sequence[end_ix, :]\n",
        "        X.append(seq_x)\n",
        "        y.append(seq_y)\n",
        "    return np.array(X), np.array(y)\n",
        "\n",
        "# Streamlit app title\n",
        "st.title('COVID-19 Weekly Predictions')\n",
        "\n",
        "# User inputs for the last three weeks of data\n",
        "st.subheader('Enter the last three weeks of data')\n",
        "\n",
        "week1_cases = st.number_input('Week 1 - Daily New Cases')\n",
        "week1_deaths = st.number_input('Week 1 - Daily New Deaths')\n",
        "week1_active = st.number_input('Week 1 - Active Cases')\n",
        "\n",
        "week2_cases = st.number_input('Week 2 - Daily New Cases')\n",
        "week2_deaths = st.number_input('Week 2 - Daily New Deaths')\n",
        "week2_active = st.number_input('Week 2 - Active Cases')\n",
        "\n",
        "week3_cases = st.number_input('Week 3 - Daily New Cases')\n",
        "week3_deaths = st.number_input('Week 3 - Daily New Deaths')\n",
        "week3_active = st.number_input('Week 3 - Active Cases')\n",
        "\n",
        "if st.button('Predict'):\n",
        "    # Combine the data into a sequence\n",
        "    input_data = np.array([\n",
        "        [week1_cases, week1_deaths, week1_active],\n",
        "        [week2_cases, week2_deaths, week2_active],\n",
        "        [week3_cases, week3_deaths, week3_active]\n",
        "    ])\n",
        "\n",
        "    # Ensure no zeros to avoid log(0) errors\n",
        "    input_data[input_data == 0] = 1\n",
        "\n",
        "    # Log transform the data\n",
        "    input_data_log = np.log(input_data)\n",
        "\n",
        "    # Reshape for the model\n",
        "    input_data_log = input_data_log.reshape((1, 3, 3))\n",
        "\n",
        "    # Make predictions\n",
        "    prediction_log = model.predict(input_data_log)\n",
        "    prediction = np.exp(prediction_log)  # Reverse log transform\n",
        "\n",
        "    # Display the predictions\n",
        "    st.subheader('Prediction for the next week')\n",
        "    st.write(f'Predicted Daily New Cases: {prediction[0][0]}')\n",
        "    st.write(f'Predicted Daily New Deaths: {prediction[0][1]}')\n",
        "    st.write(f'Predicted Active Cases: {prediction[0][2]}')\n",
        "\n",
        "# Additional styling to maintain dark background\n",
        "st.markdown(\n",
        "    \"\"\"\n",
        "    <style>\n",
        "    .css-18e3th9 {\n",
        "        background-color: #1E1E1E;\n",
        "        color: #FFFFFF;\n",
        "    }\n",
        "    .css-1d391kg {\n",
        "        background-color: #1E1E1E;\n",
        "        color: #FFFFFF;\n",
        "    }\n",
        "    .css-1l02zno {\n",
        "        background-color: #1E1E1E;\n",
        "        color: #FFFFFF;\n",
        "    }\n",
        "    </style>\n",
        "    \"\"\",\n",
        "    unsafe_allow_html=True\n",
        ")\n"
      ],
      "metadata": {
        "colab": {
          "base_uri": "https://localhost:8080/"
        },
        "id": "0th0M66o53WC",
        "outputId": "2b54fd98-afd4-46cb-a0ba-295e499b26c9"
      },
      "execution_count": 3,
      "outputs": [
        {
          "output_type": "stream",
          "name": "stderr",
          "text": [
            "/usr/local/lib/python3.10/dist-packages/keras/src/saving/saving_lib.py:576: UserWarning: Skipping variable loading for optimizer 'rmsprop', because it has 13 variables whereas the saved optimizer has 24 variables. \n",
            "  saveable.load_own_variables(weights_store.get(inner_path))\n",
            "2024-08-04 05:44:56.813 \n",
            "  \u001b[33m\u001b[1mWarning:\u001b[0m to view this Streamlit app on a browser, run it with the following\n",
            "  command:\n",
            "\n",
            "    streamlit run /usr/local/lib/python3.10/dist-packages/colab_kernel_launcher.py [ARGUMENTS]\n",
            "2024-08-04 05:44:56.817 Session state does not function when running a script without `streamlit run`\n"
          ]
        },
        {
          "output_type": "execute_result",
          "data": {
            "text/plain": [
              "DeltaGenerator()"
            ]
          },
          "metadata": {},
          "execution_count": 3
        }
      ]
    }
  ]
}